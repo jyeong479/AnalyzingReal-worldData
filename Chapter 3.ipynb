{
 "cells": [
  {
   "cell_type": "markdown",
   "metadata": {},
   "source": [
    "# 3. 넘파이로 무작위 시뮬레이션 수행하기\n",
    "## 3.1 넘파이로 무작위 동전 뒤집기와 주사위 던지기 시뮬레이션하기"
   ]
  },
  {
   "cell_type": "code",
   "execution_count": 1,
   "metadata": {},
   "outputs": [],
   "source": [
    "# 넘파이 라이브러리 불러오기\n",
    "import numpy as np"
   ]
  },
  {
   "cell_type": "code",
   "execution_count": 2,
   "metadata": {},
   "outputs": [],
   "source": [
    "# 무작위로 굴린 주사위 시뮬레이션하기\n",
    "die_roll = np.random.randint(1, 7)\n",
    "assert 1 <= die_roll <= 6"
   ]
  },
  {
   "cell_type": "code",
   "execution_count": 3,
   "metadata": {},
   "outputs": [],
   "source": [
    "# 무작위로 얻은 주사위 값을 재현 가능하도록 시드 설정하기\n",
    "np.random.seed(0)\n",
    "die_rolls = [np.random.randint(1, 7) for _ in range(3)]\n",
    "assert die_rolls == [5, 6, 1]"
   ]
  },
  {
   "cell_type": "code",
   "execution_count": 4,
   "metadata": {},
   "outputs": [
    {
     "name": "stdout",
     "output_type": "stream",
     "text": [
      "동전은 뒷면으로 떨어졌습니다\n"
     ]
    }
   ],
   "source": [
    "# 공정한 동전 뒤집기 한 번 시뮬레이션하기\n",
    "np.random.seed(0)\n",
    "coin_flip = np.random.randint(0, 2)\n",
    "print(f\"동전은 {'앞면' if coin_flip == 1 else '뒷면'}으로 떨어졌습니다\")"
   ]
  },
  {
   "cell_type": "code",
   "execution_count": 5,
   "metadata": {},
   "outputs": [
    {
     "name": "stdout",
     "output_type": "stream",
     "text": [
      "동전 앞면이 관측된 빈도는 0.8입니다\n"
     ]
    }
   ],
   "source": [
    "# 동전 뒤집기 10번 시뮬레이션하기\n",
    "np.random.seed(0)\n",
    "def frequency_heads(coin_flips_sequence):\n",
    "    total_heads = len([head for head in coin_flips_sequence if head == 1])\n",
    "    return total_heads / len(coin_flips_sequence)\n",
    "\n",
    "coin_flips = [np.random.randint(0, 2) for _ in range(10)]\n",
    "freq_heads = frequency_heads(coin_flips)\n",
    "print(f\"동전 앞면이 관측된 빈도는 {freq_heads}입니다\")\n"
   ]
  },
  {
   "cell_type": "code",
   "execution_count": 6,
   "metadata": {},
   "outputs": [
    {
     "data": {
      "text/plain": [
       "<matplotlib.lines.Line2D at 0x25d3109f3b0>"
      ]
     },
     "execution_count": 6,
     "metadata": {},
     "output_type": "execute_result"
    },
    {
     "data": {
      "image/png": "[encoded data removed]",
      "text/plain": [
       "<Figure size 640x480 with 1 Axes>"
      ]
     },
     "metadata": {},
     "output_type": "display_data"
    }
   ],
   "source": [
    "import matplotlib.pyplot as plt\n",
    "\n",
    "# 일련의 공정한 동전 뒤집기 시뮬레이션 그래프\n",
    "np.random.seed(0)\n",
    "coin_flips = []\n",
    "frequencies = []\n",
    "for _ in range(1000):\n",
    "    coin_flips.append(np.random.randint(0, 2))\n",
    "    frequencies.append(frequency_heads(coin_flips))\n",
    "\n",
    "plt.plot(list(range(1000)), frequencies)\n",
    "plt.axhline(0.5, color='k')\n"
   ]
  },
  {
   "cell_type": "code",
   "execution_count": 7,
   "metadata": {},
   "outputs": [
    {
     "name": "stdout",
     "output_type": "stream",
     "text": [
      "동전을 한 번 뒤집어 봅니다\n",
      "편향된 동전은 앞면으로 떨어졌습니다\n",
      "\n",
      "동전을 10번 뒤집어 봅니다\n",
      "10번의 편향된 동전 뒤집기 중 앞면은6번 관측되었습니다\n"
     ]
    }
   ],
   "source": [
    "# 편향된 동전 뒤집기 시뮬레이션하기\n",
    "np.random.seed(0)\n",
    "print(\"동전을 한 번 뒤집어 봅니다\")\n",
    "coin_flip = np.random.binomial(1, 0.7)\n",
    "print(f\"편향된 동전은 {'앞면' if coin_flip == 1 else '뒷면'}으로 떨어졌습니다\")\n",
    "\n",
    "print(\"\\n동전을 10번 뒤집어 봅니다\")\n",
    "number_coin_flips = 10\n",
    "head_count = np.random.binomial(number_coin_flips, 0.7)\n",
    "print((f\"{number_coin_flips}번의 편향된 동전 뒤집기 중 앞면은\"\n",
    "       f\"{head_count}번 관측되었습니다\"))"
   ]
  },
  {
   "cell_type": "code",
   "execution_count": 8,
   "metadata": {},
   "outputs": [
    {
     "name": "stdout",
     "output_type": "stream",
     "text": [
      "동전 앞면이 관측된 빈도는 0.697입니다\n"
     ]
    }
   ],
   "source": [
    "# 동전 뒤집기 빈도의 수렴 정도 계산하기\n",
    "np.random.seed(0)\n",
    "head_count = np.random.binomial(1000, 0.7)\n",
    "frequency = head_count / 1000\n",
    "print(f\"동전 앞면이 관측된 빈도는 {frequency}입니다\")"
   ]
  },
  {
   "cell_type": "code",
   "execution_count": 9,
   "metadata": {},
   "outputs": [
    {
     "name": "stdout",
     "output_type": "stream",
     "text": [
      "1번째 반복에서의 빈도는 0.69입니다\n",
      "2번째 반복에서의 빈도는 0.7입니다\n",
      "빈도와 실제 확률이 일치합니다!\n",
      "3번째 반복에서의 빈도는 0.707입니다\n",
      "4번째 반복에서의 빈도는 0.702입니다\n",
      "5번째 반복에서의 빈도는 0.699입니다\n"
     ]
    }
   ],
   "source": [
    "# 동전 뒤집기 빈도의 수렴 정도 재계산하기\n",
    "np.random.seed(0)\n",
    "assert np.random.binomial(1000, 0.7) / 1000 == 0.697\n",
    "for i in range(1,6):\n",
    "    head_count = np.random.binomial(1000, 0.7)\n",
    "    frequency = head_count / 1000\n",
    "    print(f\"{i}번째 반복에서의 빈도는 {frequency}입니다\")\n",
    "    if frequency == 0.7:\n",
    "        print(\"빈도와 실제 확률이 일치합니다!\")"
   ]
  },
  {
   "cell_type": "markdown",
   "metadata": {},
   "source": [
    "## 3.2 히스토그램 넘파이 배열로 계산하는 신뢰 구간"
   ]
  },
  {
   "cell_type": "code",
   "execution_count": 10,
   "metadata": {},
   "outputs": [],
   "source": [
    "# 동전 뒤집기 샘플링 1000번을 500번 수행한 빈도 계산하기\n",
    "np.random.seed(0)\n",
    "head_count_list = [np.random.binomial(1000, 0.7) for _ in range(500)]"
   ]
  },
  {
   "cell_type": "code",
   "execution_count": 11,
   "metadata": {},
   "outputs": [],
   "source": [
    "# 동전 뒤집기 빈도 계산 최적화하기\n",
    "np.random.seed(0)\n",
    "head_count_array = np.random.binomial(1000, 0.7, 500)"
   ]
  },
  {
   "cell_type": "code",
   "execution_count": 12,
   "metadata": {},
   "outputs": [],
   "source": [
    "# 넘파이 배열을 파이썬 리스트로 변환하기\n",
    "assert head_count_array.tolist() == head_count_list"
   ]
  },
  {
   "cell_type": "code",
   "execution_count": 13,
   "metadata": {},
   "outputs": [],
   "source": [
    "# 파이썬 리스트를 넘파이 배열로 변환하기\n",
    "new_array = np.array(head_count_list)\n",
    "assert np.array_equal(new_array, head_count_array) == True"
   ]
  },
  {
   "cell_type": "code",
   "execution_count": 14,
   "metadata": {},
   "outputs": [],
   "source": [
    "# 넘파이로 빈도 계산하기\n",
    "frequency_array = head_count_array / 1000\n",
    "assert frequency_array.tolist() == [head_count / 1000 for head_count in head_count_list]\n",
    "assert frequency_array.tolist() == list(map(lambda x: x / 1000, head_count_list))\n"
   ]
  },
  {
   "cell_type": "code",
   "execution_count": 15,
   "metadata": {},
   "outputs": [
    {
     "name": "stdout",
     "output_type": "stream",
     "text": [
      "[0.697 0.69  0.7   0.707 0.702 0.699 0.723 0.67  0.702 0.713 0.721 0.689\n",
      " 0.711 0.697 0.717 0.691 0.731 0.697 0.722 0.728]\n"
     ]
    }
   ],
   "source": [
    "# 빈도를 담은 넘파이 배열 출력하기\n",
    "print(frequency_array[:20])"
   ]
  },
  {
   "cell_type": "code",
   "execution_count": 16,
   "metadata": {},
   "outputs": [
    {
     "name": "stdout",
     "output_type": "stream",
     "text": [
      "관측된 최소 빈도: 0.656\n",
      "관측된 최대 빈도: 0.733\n",
      "빈도의 범위: 0.07699999999999996\n"
     ]
    }
   ],
   "source": [
    "# 최대 및 최소 빈도 값 찾기\n",
    "min_freq = frequency_array.min()\n",
    "max_freq = frequency_array.max()\n",
    "print(f\"관측된 최소 빈도: {min_freq}\")\n",
    "print(f\"관측된 최대 빈도: {max_freq}\")\n",
    "print(f\"빈도의 범위: {max_freq - min_freq}\")\n"
   ]
  },
  {
   "cell_type": "code",
   "execution_count": 17,
   "metadata": {},
   "outputs": [
    {
     "data": {
      "image/png": "[encoded data removed]",
      "text/plain": [
       "<Figure size 640x480 with 1 Axes>"
      ]
     },
     "metadata": {},
     "output_type": "display_data"
    }
   ],
   "source": [
    "# 측정된 빈도 그래프 그리기\n",
    "import matplotlib.font_manager as fm\n",
    "from collections import defaultdict\n",
    "\n",
    "frequency_counts = defaultdict(int)\n",
    "for frequency in frequency_array:\n",
    "    frequency_counts[frequency] += 1\n",
    "\n",
    "frequencies = list(frequency_counts.keys())\n",
    "counts = [frequency_counts[freq] for freq in frequencies]\n",
    "\n",
    "\n",
    "\n",
    "font_path = \"./nanum-gothic/NanumGothic.ttf\"\n",
    "fontprop = fm.FontProperties(fname=font_path)\n",
    "\n",
    "plt.rc('font', family=fontprop.get_name())\n",
    "plt.scatter(frequencies, counts)\n",
    "plt.xlabel('빈도')\n",
    "plt.ylabel('횟수')\n",
    "plt.show()"
   ]
  },
  {
   "cell_type": "markdown",
   "metadata": {},
   "source": [
    "### 3.2.1 히스토그램 내 유사한 점들을 묶기"
   ]
  },
  {
   "cell_type": "code",
   "execution_count": 18,
   "metadata": {},
   "outputs": [
    {
     "data": {
      "image/png": "[encoded data removed]",
      "text/plain": [
       "<Figure size 640x480 with 1 Axes>"
      ]
     },
     "metadata": {},
     "output_type": "display_data"
    }
   ],
   "source": [
    "# plt.hist를 사용한 빈도 히스토그램 그리기\n",
    "plt.hist(frequency_array, bins = 'auto', edgecolor = 'black')\n",
    "plt.xlabel(\"유사한 것들끼리 묶인 빈도\")\n",
    "plt.ylabel('횟수')\n",
    "plt.show()"
   ]
  },
  {
   "cell_type": "code",
   "execution_count": 19,
   "metadata": {},
   "outputs": [
    {
     "name": "stdout",
     "output_type": "stream",
     "text": [
      "빈의 개수: 16\n"
     ]
    },
    {
     "data": {
      "image/png": "[encoded data removed]",
      "text/plain": [
       "<Figure size 640x480 with 1 Axes>"
      ]
     },
     "metadata": {},
     "output_type": "display_data"
    }
   ],
   "source": [
    "# 히스토그램의 빈 개수\n",
    "counts, _, _ = plt.hist(frequency_array, bins='auto', edgecolor='black')\n",
    "print(f\"빈의 개수: {counts.size}\")"
   ]
  },
  {
   "cell_type": "code",
   "execution_count": 20,
   "metadata": {},
   "outputs": [
    {
     "name": "stdout",
     "output_type": "stream",
     "text": [
      "빈 너비: 0.004812499999999997\n"
     ]
    },
    {
     "data": {
      "image/png": "[encoded data removed]",
      "text/plain": [
       "<Figure size 640x480 with 1 Axes>"
      ]
     },
     "metadata": {},
     "output_type": "display_data"
    }
   ],
   "source": [
    "# 히스토그램의 빈 너비 계산하기\n",
    "counts, bin_edges, _ = plt.hist(frequency_array, bins='auto', edgecolor='black')\n",
    "\n",
    "bin_width = bin_edges[1] - bin_edges[0]\n",
    "assert bin_width == (max_freq-min_freq)/counts.size\n",
    "print(f\"빈 너비: {bin_width}\")"
   ]
  },
  {
   "cell_type": "code",
   "execution_count": 21,
   "metadata": {},
   "outputs": [
    {
     "name": "stdout",
     "output_type": "stream",
     "text": [
      "빈도 범위 0.656 - 0.6608125에 대한 빈은 1개의 요소를 포함합니다\n",
      "빈도 범위 0.6800625 - 0.684875에 대한 빈은 20개의 요소를 포함합니다\n"
     ]
    }
   ],
   "source": [
    "# 빈의 빈도와 크기\n",
    "def output_bin_coverage(i):\n",
    "    count = int(counts[i])\n",
    "    range_start, range_end = bin_edges[i], bin_edges[i+1]\n",
    "    range_string = f\"{range_start} - {range_end}\"\n",
    "    print((f\"빈도 범위 {range_string}에 대한 빈은 \"\n",
    "          f\"{count}개의 요소를 포함합니다\"))\n",
    "\n",
    "output_bin_coverage(0)\n",
    "output_bin_coverage(5)"
   ]
  },
  {
   "cell_type": "code",
   "execution_count": 22,
   "metadata": {},
   "outputs": [],
   "source": [
    "# 배열의 최댓값에 대한 인덱스 구하기\n",
    "assert counts[counts.argmax()] == counts.max()"
   ]
  },
  {
   "cell_type": "code",
   "execution_count": 23,
   "metadata": {},
   "outputs": [
    {
     "name": "stdout",
     "output_type": "stream",
     "text": [
      "빈도 범위 0.6945 - 0.6993125에 대한 빈은 72개의 요소를 포함합니다\n"
     ]
    }
   ],
   "source": [
    "# 히스토그램의 가장 높은 구간을 반환하는 데 argmax 사용하기\n",
    "output_bin_coverage(counts.argmax())"
   ]
  },
  {
   "cell_type": "markdown",
   "metadata": {},
   "source": [
    "### 3.2.2 히스토그램에서 확률 구하기"
   ]
  },
  {
   "cell_type": "code",
   "execution_count": 24,
   "metadata": {},
   "outputs": [
    {
     "data": {
      "image/png": "[encoded data removed]",
      "text/plain": [
       "<Figure size 640x480 with 1 Axes>"
      ]
     },
     "metadata": {},
     "output_type": "display_data"
    }
   ],
   "source": [
    "# 히스토그램의 상대적 확률 그리기\n",
    "likelihoods, bin_edges, _ = plt.hist(frequency_array, bins = 'auto',\n",
    "                                    edgecolor = 'black', density = True)\n",
    "plt.xlabel(\"빈도 구간\")\n",
    "plt.ylabel(\"상대적 확률\")\n",
    "plt.show()"
   ]
  },
  {
   "cell_type": "code",
   "execution_count": 25,
   "metadata": {},
   "outputs": [],
   "source": [
    "# 히스토그램의 전체 영역 계산하기\n",
    "assert likelihoods.sum() * bin_width == 1.0"
   ]
  },
  {
   "cell_type": "code",
   "execution_count": 26,
   "metadata": {},
   "outputs": [
    {
     "name": "stdout",
     "output_type": "stream",
     "text": [
      "샘플링된 빈도가 0.6945 - 0.6993125 구간에 속할 확률은 0.144입니다\n"
     ]
    }
   ],
   "source": [
    "# 최고점 빈도에 대한 확률 계산하기\n",
    "index = likelihoods.argmax()\n",
    "area = likelihoods[index] * bin_width\n",
    "range_start, range_end = bin_edges[index], bin_edges[index+1]\n",
    "range_string = f\"{range_start} - {range_end}\"\n",
    "print(f\"샘플링된 빈도가 {range_string} 구간에 속할 확률은 {area}입니다\")"
   ]
  },
  {
   "cell_type": "code",
   "execution_count": 27,
   "metadata": {},
   "outputs": [
    {
     "name": "stdout",
     "output_type": "stream",
     "text": [
      "샘플링된 빈도가 0.6896875 - 0.704125 구간에 속할 확률은 0.464입니다\n"
     ]
    }
   ],
   "source": [
    "# 빈도 범위의 확률 늘리기\n",
    "peak_index = likelihoods.argmax()\n",
    "start_index, end_index = (peak_index-1, peak_index+2)\n",
    "area = likelihoods[start_index:end_index+1].sum() * bin_width\n",
    "range_start, range_end = bin_edges[start_index], bin_edges[end_index]\n",
    "range_string = f\"{range_start} - {range_end}\"\n",
    "print(f\"샘플링된 빈도가 {range_string} 구간에 속할 확률은 {area}입니다\")"
   ]
  },
  {
   "cell_type": "code",
   "execution_count": 28,
   "metadata": {},
   "outputs": [
    {
     "name": "stdout",
     "output_type": "stream",
     "text": [
      "빈도 범위 0.670438 - 0.723375는 95.40% 신뢰구간을 나타냅니다\n"
     ]
    },
    {
     "data": {
      "text/plain": [
       "(np.int64(3), np.int64(14))"
      ]
     },
     "execution_count": 28,
     "metadata": {},
     "output_type": "execute_result"
    }
   ],
   "source": [
    "# 높은 신뢰 구간 계산하기\n",
    "def compute_high_confidence_interval(likelihoods, bin_width):\n",
    "    peak_index = likelihoods.argmax()\n",
    "    area = likelihoods[peak_index] * bin_width\n",
    "    start_index, end_index = peak_index, peak_index + 1\n",
    "    while area < 0.95:\n",
    "        if start_index > 0:\n",
    "            start_index -= 1\n",
    "        if end_index < likelihoods.size - 1:\n",
    "            end_index += 1\n",
    "        area = likelihoods[start_index:end_index+1].sum() * bin_width\n",
    "        \n",
    "    range_start, range_end = bin_edges[start_index], bin_edges[end_index]\n",
    "    range_string = f\"{range_start:.6f} - {range_end:.6f}\"\n",
    "    print((f\"빈도 범위 {range_string}는 {100 * area:.2f}% 신뢰구간을 나타냅니다\"))\n",
    "    return start_index, end_index\n",
    "\n",
    "compute_high_confidence_interval(likelihoods, bin_width)"
   ]
  },
  {
   "cell_type": "markdown",
   "metadata": {},
   "source": [
    "### 3.2.3 고신뢰 구간의 범위 줄이기"
   ]
  },
  {
   "cell_type": "code",
   "execution_count": 29,
   "metadata": {},
   "outputs": [],
   "source": [
    "# 빈도 10만 개 샘플링하기\n",
    "np.random.seed(0)\n",
    "head_count_array = np.random.binomial(1000, 0.7, 100000)\n",
    "frequency_array = head_count_array / 1000\n",
    "assert frequency_array.size == 100000"
   ]
  },
  {
   "cell_type": "code",
   "execution_count": 30,
   "metadata": {},
   "outputs": [
    {
     "name": "stdout",
     "output_type": "stream",
     "text": [
      "빈도 범위 0.670429 - 0.727857는 95.42% 신뢰구간을 나타냅니다\n"
     ]
    },
    {
     "data": {
      "image/png": "[encoded data removed]",
      "text/plain": [
       "<Figure size 640x480 with 1 Axes>"
      ]
     },
     "metadata": {},
     "output_type": "display_data"
    }
   ],
   "source": [
    "# 특정 구간에 대해 히스토그램 막대 색칠하기\n",
    "likelihoods, bin_edges, patches = plt.hist(frequency_array, bins='auto',\n",
    "                                           edgecolor = 'black', density=True)\n",
    "bin_width = bin_edges[1] - bin_edges[0]\n",
    "start_index, end_index = compute_high_confidence_interval(likelihoods, bin_width)\n",
    "for i in range(start_index, end_index):\n",
    "    patches[i].set_facecolor(\"yellow\")\n",
    "plt.xlabel(\"빈도 구간\")\n",
    "plt.ylabel(\"상대적 확률\")\n",
    "plt.show()"
   ]
  },
  {
   "cell_type": "code",
   "execution_count": 31,
   "metadata": {},
   "outputs": [
    {
     "name": "stdout",
     "output_type": "stream",
     "text": [
      "빈도 범위 0.695769 - 0.703708는 95.06% 신뢰구간을 나타냅니다\n"
     ]
    },
    {
     "data": {
      "image/png": "[encoded data removed]",
      "text/plain": [
       "<Figure size 640x480 with 1 Axes>"
      ]
     },
     "metadata": {},
     "output_type": "display_data"
    }
   ],
   "source": [
    "# 동전 뒤집기를 50억 번 샘플링하기\n",
    "np.random.seed(0)\n",
    "head_count_array = np.random.binomial(50000, 0.7, 100000)\n",
    "frequency_array = head_count_array / 50000\n",
    "\n",
    "likelihoods, bin_edges, patches = plt.hist(frequency_array, bins='auto',\n",
    "                                           edgecolor = 'black', density = True)\n",
    "bin_width = bin_edges[1] - bin_edges[0]\n",
    "start_index, end_index = compute_high_confidence_interval(likelihoods, bin_width)\n",
    "\n",
    "for i in range(start_index, end_index):\n",
    "    patches[i].set_facecolor(\"yellow\")\n",
    "plt.xlabel(\"빈도 구간\")\n",
    "plt.ylabel(\"상대적 확률\")\n",
    "plt.show()"
   ]
  },
  {
   "cell_type": "markdown",
   "metadata": {},
   "source": [
    "### 3.2.4 넘파이로 히스토그램 계산하기"
   ]
  },
  {
   "cell_type": "code",
   "execution_count": 32,
   "metadata": {},
   "outputs": [
    {
     "name": "stdout",
     "output_type": "stream",
     "text": [
      "빈도 범위 0.695769 - 0.703708는 95.06% 신뢰구간을 나타냅니다\n"
     ]
    },
    {
     "data": {
      "text/plain": [
       "(np.int64(47), np.int64(114))"
      ]
     },
     "execution_count": 32,
     "metadata": {},
     "output_type": "execute_result"
    }
   ],
   "source": [
    "# np.histogram으로 히스토그램 계산하기\n",
    "np.random.seed(0)\n",
    "likelihoods, bin_edges = np.histogram(frequency_array, bins = 'auto',\n",
    "                                      density = True)\n",
    "bin_width = bin_edges[1] - bin_edges[0]\n",
    "compute_high_confidence_interval(likelihoods, bin_width)"
   ]
  },
  {
   "cell_type": "markdown",
   "metadata": {},
   "source": [
    "## 3.3 신뢰 구간으로 편향된 카드 덱 분석하기"
   ]
  },
  {
   "cell_type": "code",
   "execution_count": 33,
   "metadata": {},
   "outputs": [],
   "source": [
    "# 임의의 빨간색 카드 개수 생성하기\n",
    "np.random.seed(0)\n",
    "total_cards = 52\n",
    "red_card_count = np.random.randint(0, total_cards + 1)"
   ]
  },
  {
   "cell_type": "code",
   "execution_count": 34,
   "metadata": {},
   "outputs": [],
   "source": [
    "# 검은색 카드 개수 생성하기\n",
    "black_card_count = total_cards - red_card_count\n",
    "assert black_card_count != red_card_count"
   ]
  },
  {
   "cell_type": "code",
   "execution_count": 35,
   "metadata": {},
   "outputs": [],
   "source": [
    "# 모든 결과들의 집합에서 특정 조건을 만족하는지 검사\n",
    "def get_matching_event(event_condition, sample_space):\n",
    "    return {outcome for outcome in sample_space \n",
    "             if event_condition(outcome)}\n",
    "\n",
    "# 일반화된 사건 확률 함수 정의\n",
    "def compute_event_probability(event_condition, generic_sample_space):\n",
    "    event = get_matching_event(event_condition, generic_sample_space)\n",
    "    # 함수의 타입이 set인지 확인\n",
    "    if type(generic_sample_space) == type(set()):\n",
    "        return len(event) / len(generic_sample_space)\n",
    "    \n",
    "    event_size = sum(generic_sample_space[outcome] for outcome in event)\n",
    "    return event_size / sum(generic_sample_space.values())\n",
    "\n",
    "# 표본 공간에서 카드 확률 계산하기\n",
    "weighted_sample_space = {'red_card': red_card_count, 'black_card': black_card_count}\n",
    "prob_red = compute_event_probability(lambda x: x == 'red_card', weighted_sample_space)"
   ]
  },
  {
   "cell_type": "code",
   "execution_count": 36,
   "metadata": {},
   "outputs": [],
   "source": [
    "# 나눗셈으로 카드 확률 계산하기\n",
    "assert prob_red == red_card_count / total_cards"
   ]
  },
  {
   "cell_type": "code",
   "execution_count": 37,
   "metadata": {},
   "outputs": [
    {
     "name": "stdout",
     "output_type": "stream",
     "text": [
      "뒤섞인 카드 덱에서 꺼낸 첫 번째 카드는 red입니다\n"
     ]
    }
   ],
   "source": [
    "# 임의의 카드 시뮬레이션하기\n",
    "np.random.seed(0)\n",
    "color = 'red' if np.random.binomial(1, prob_red) else 'black'\n",
    "print(f\"뒤섞인 카드 덱에서 꺼낸 첫 번째 카드는 {color}입니다\")"
   ]
  },
  {
   "cell_type": "code",
   "execution_count": 38,
   "metadata": {},
   "outputs": [
    {
     "name": "stdout",
     "output_type": "stream",
     "text": [
      "10번 카드를 뒤섞었을 때 8번이 빨간색입니다.\n"
     ]
    }
   ],
   "source": [
    "# 임의의 카드 10번 시뮬레이션 하기\n",
    "np.random.seed(0)\n",
    "red_count = np.random.binomial(10, prob_red)\n",
    "print(f\"10번 카드를 뒤섞었을 때 {red_count}번이 빨간색입니다.\")"
   ]
  },
  {
   "cell_type": "code",
   "execution_count": 39,
   "metadata": {},
   "outputs": [
    {
     "name": "stdout",
     "output_type": "stream",
     "text": [
      "빈도 범위 0.842865 - 0.849139는 95.16% 신뢰구간을 나타냅니다\n"
     ]
    }
   ],
   "source": [
    "# 카드 확률 신뢰 구간 계산하기\n",
    "np.random.seed(0)\n",
    "red_card_count_array = np.random.binomial(50000, prob_red, 100000)\n",
    "frequency_array = red_card_count_array / 50000\n",
    "\n",
    "likelihoods, bin_edges = np.histogram(frequency_array, bins = 'auto', density = True)\n",
    "bin_width = bin_edges[1] - bin_edges[0]\n",
    "start_index, end_index = compute_high_confidence_interval(likelihoods, bin_width)"
   ]
  },
  {
   "cell_type": "code",
   "execution_count": 40,
   "metadata": {},
   "outputs": [
    {
     "name": "stdout",
     "output_type": "stream",
     "text": [
      "빨간색 카드 개수는 44와 44사이입니다\n"
     ]
    }
   ],
   "source": [
    "# 빨간색 카드 개수 추정하기\n",
    "range_start = round(0.842865*total_cards)\n",
    "range_end = round(0.849139*total_cards)\n",
    "print(f\"빨간색 카드 개수는 {range_start}와 {range_end}사이입니다\")"
   ]
  },
  {
   "cell_type": "code",
   "execution_count": 41,
   "metadata": {},
   "outputs": [
    {
     "name": "stdout",
     "output_type": "stream",
     "text": [
      "맞췄습니다! 카드 덱에는 44장의 빨간색 카드가 들어있습니다\n"
     ]
    }
   ],
   "source": [
    "if red_card_count == 44:\n",
    "    print(\"맞췄습니다! 카드 덱에는 44장의 빨간색 카드가 들어있습니다\")\n",
    "else:\n",
    "    print(\"저런 샘플링 추정이 틀렸습니다\")"
   ]
  },
  {
   "cell_type": "markdown",
   "metadata": {},
   "source": [
    "## 3.4 순열로 카드 뒤섞기"
   ]
  },
  {
   "cell_type": "code",
   "execution_count": 42,
   "metadata": {},
   "outputs": [
    {
     "name": "stdout",
     "output_type": "stream",
     "text": [
      "[0, 0, 1, 1]\n"
     ]
    }
   ],
   "source": [
    "# 카드 덱 네 장 뒤섞기\n",
    "np.random.seed(0)\n",
    "card_deck = [1, 1, 0, 0]\n",
    "np.random.shuffle(card_deck)\n",
    "print(card_deck)"
   ]
  },
  {
   "cell_type": "code",
   "execution_count": 43,
   "metadata": {},
   "outputs": [
    {
     "name": "stdout",
     "output_type": "stream",
     "text": [
      "[0 0 1 1]\n"
     ]
    }
   ],
   "source": [
    "# 뒤섞인 카드 덱의 복사본 반환하기\n",
    "np.random.seed(0)\n",
    "unshuffled_deck = [1, 1, 0, 0]\n",
    "shuffled_deck = np.random.permutation(unshuffled_deck)\n",
    "assert unshuffled_deck == [1, 1, 0, 0]\n",
    "print(shuffled_deck)"
   ]
  },
  {
   "cell_type": "code",
   "execution_count": 44,
   "metadata": {},
   "outputs": [
    {
     "name": "stdout",
     "output_type": "stream",
     "text": [
      "(1, 1, 0, 0)\n",
      "(1, 1, 0, 0)\n",
      "(1, 0, 1, 0)\n"
     ]
    }
   ],
   "source": [
    "# 카드 순열 확인하기\n",
    "import itertools\n",
    "for permutation in list(itertools.permutations(unshuffled_deck))[:3]:\n",
    "    print(permutation)"
   ]
  },
  {
   "cell_type": "code",
   "execution_count": 45,
   "metadata": {},
   "outputs": [
    {
     "name": "stdout",
     "output_type": "stream",
     "text": [
      "(0, 1, 2, 3)\n",
      "(0, 1, 3, 2)\n",
      "(0, 2, 1, 3)\n"
     ]
    }
   ],
   "source": [
    "# 순열 교환 결과 확인하기\n",
    "for permutation in list(itertools.permutations([0, 1, 2, 3]))[:3]:\n",
    "    print(permutation)"
   ]
  },
  {
   "cell_type": "code",
   "execution_count": 46,
   "metadata": {},
   "outputs": [
    {
     "name": "stdout",
     "output_type": "stream",
     "text": [
      "순열 (1, 1, 0, 0)은 4번 발생합니다\n",
      "순열 (1, 0, 1, 0)은 4번 발생합니다\n",
      "순열 (1, 0, 0, 1)은 4번 발생합니다\n",
      "순열 (0, 1, 1, 0)은 4번 발생합니다\n",
      "순열 (0, 1, 0, 1)은 4번 발생합니다\n",
      "순열 (0, 0, 1, 1)은 4번 발생합니다\n"
     ]
    }
   ],
   "source": [
    "# 순열 개수 계산하기\n",
    "weighted_sample_space = defaultdict(int)\n",
    "for permutation in itertools.permutations(unshuffled_deck):\n",
    "    weighted_sample_space[permutation] += 1\n",
    "\n",
    "for permutation, count in weighted_sample_space.items():\n",
    "    print(f\"순열 {permutation}은 {count}번 발생합니다\")"
   ]
  },
  {
   "cell_type": "code",
   "execution_count": 47,
   "metadata": {},
   "outputs": [
    {
     "name": "stdout",
     "output_type": "stream",
     "text": [
      "해당 뒤섞기 작업이 카드 덱을 변경하지 않을 확률은 0.16666666666666666입니다\n"
     ]
    }
   ],
   "source": [
    "# 순열 확률 계산하기\n",
    "sample_space = set(itertools.permutations(unshuffled_deck))\n",
    "event_condition = lambda x: list(x) == unshuffled_deck\n",
    "prob = compute_event_probability(event_condition, sample_space)\n",
    "assert prob == 1 / len(sample_space)\n",
    "print(f\"해당 뒤섞기 작업이 카드 덱을 변경하지 않을 확률은 {prob}입니다\")"
   ]
  },
  {
   "cell_type": "code",
   "execution_count": 48,
   "metadata": {},
   "outputs": [
    {
     "name": "stdout",
     "output_type": "stream",
     "text": [
      "카드 열 장으로 구성된 카드 덱의 표본 공간에는 252개의 요소가 있습니다\n"
     ]
    }
   ],
   "source": [
    "# 카드 표본 공간 열개 계산하기\n",
    "red_cards = 5 * [1]\n",
    "black_cards = 5 * [0]\n",
    "unshuffled_deck = red_cards + black_cards\n",
    "sample_space = set(itertools.permutations(unshuffled_deck))\n",
    "print(f\"카드 열 장으로 구성된 카드 덱의 표본 공간에는 {len(sample_space)}개의 요소가 있습니다\")"
   ]
  },
  {
   "cell_type": "markdown",
   "metadata": {},
   "source": [
    "## 3.5 요약\n",
    "- np.random.binomial 메서드로 임의 동전 뒤집기를 시뮬레이션 할 수 있음.\n",
    "- 히스토그램은 관측된 수치 값 빈도를 구간으로 나누어 보여줌. 빈도는 1.0이 되도록 상대적 확률로 변환될수도 있으며 그렇게 변환된 히스토그램은 확률 분포가 됨. </br>\n",
    "분포의 최고점 주변 영역은 신뢰 구간을 의미. 일반적으로 95% 이상 신뢰 구간이 선호됨.\n",
    "- 중심 극한 정리에 따르면 종 모양 곡선과 관련된 95% 신뢰 구간은 각 빈도 표본의 크기가 증가할수록 더 좁아짐.\n"
   ]
  }
 ],
 "metadata": {
  "kernelspec": {
   "display_name": "Python 3",
   "language": "python",
   "name": "python3"
  },
  "language_info": {
   "codemirror_mode": {
    "name": "ipython",
    "version": 3
   },
   "file_extension": ".py",
   "mimetype": "text/x-python",
   "name": "python",
   "nbconvert_exporter": "python",
   "pygments_lexer": "ipython3",
   "version": "3.12.5"
  }
 },
 "nbformat": 4,
 "nbformat_minor": 2
}
